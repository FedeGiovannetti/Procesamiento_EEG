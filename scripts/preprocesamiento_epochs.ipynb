{
 "cells": [
  {
   "cell_type": "markdown",
   "metadata": {},
   "source": [
    "# Creación de Épocas con MNE-python (TOL)\n",
    "## Creación de épocas"
   ]
  },
  {
   "cell_type": "markdown",
   "metadata": {},
   "source": [
    "En esta cuarta parte se dividirá al registro en épocas. Es decir en los intérvalos de tiempo que nos interesa analizar."
   ]
  },
  {
   "cell_type": "markdown",
   "metadata": {},
   "source": [
    "## 0. Cargar paquetes\n",
    "\n",
    "El paso cero es la carga de los paquetes. Es decir, la carga de las distintas funciones que vamos a estar utilizando en el script."
   ]
  },
  {
   "cell_type": "code",
   "execution_count": 2,
   "metadata": {},
   "outputs": [],
   "source": [
    "import mne"
   ]
  },
  {
   "cell_type": "markdown",
   "metadata": {},
   "source": [
    "## 1. Carga de datos\n",
    "\n",
    "Posteriormente, cargamos los datos en formato .fif que ya se encuentran **referenciados**, **filtrados**, **limpios** y que han pasado por el proceso del **ICA**."
   ]
  },
  {
   "cell_type": "markdown",
   "metadata": {},
   "source": [
    "Primero, colocamos el código del sujeto dentro de un objeto llamado *subject_id*. De esta forma, nos ahorramos tener cambiar el código del sujeto en todo el código <br>\n",
    "Luego, colocamos el código de la tarea dentro de un objeto llamado *task*.<br>\n",
    "Finalmente, dentro de la función  `mne.io.read()`vamos a escribir la ruta al archivo dentro de la computadora. Cargaremos estos datos en un objeto llamado **raw**"
   ]
  },
  {
   "cell_type": "code",
   "execution_count": 4,
   "metadata": {},
   "outputs": [
    {
     "name": "stdout",
     "output_type": "stream",
     "text": [
      "Opening raw data file ../data/TOL/preprocessing/SAAV0009_TOL_REF_FILT_CLEAN_ICA.fif...\n"
     ]
    },
    {
     "name": "stderr",
     "output_type": "stream",
     "text": [
      "C:\\Users\\slipina\\AppData\\Local\\Temp\\ipykernel_5100\\1929003758.py:4: RuntimeWarning: This filename (../data/TOL/preprocessing/SAAV0009_TOL_REF_FILT_CLEAN_ICA.fif) does not conform to MNE naming conventions. All raw files should end with raw.fif, raw_sss.fif, raw_tsss.fif, _meg.fif, _eeg.fif, _ieeg.fif, raw.fif.gz, raw_sss.fif.gz, raw_tsss.fif.gz, _meg.fif.gz, _eeg.fif.gz or _ieeg.fif.gz\n",
      "  raw = mne.io.read_raw_fif((\"../data/\" + task + \"/\" + \"preprocessing/\" + subject_id + \"_\" + task +\"_REF_FILT_CLEAN_ICA.fif\"), preload=True)\n"
     ]
    },
    {
     "name": "stdout",
     "output_type": "stream",
     "text": [
      "    Range : 0 ... 728740 =      0.000 ...   711.660 secs\n",
      "Ready.\n",
      "Reading 0 ... 728740  =      0.000 ...   711.660 secs...\n"
     ]
    }
   ],
   "source": [
    "subject_id = \"SAAV0009\"\n",
    "task = \"TOL\"\n",
    "\n",
    "raw = mne.io.read_raw_fif((\"../data/\" + task + \"/\" + \"preprocessing/\" + subject_id + \"_\" + task +\"_REF_FILT_CLEAN_ICA.fif\"), preload=True)"
   ]
  },
  {
   "cell_type": "markdown",
   "metadata": {},
   "source": [
    "# 3. Colocar marcas\n",
    "\n",
    "Al archivo con la señal neural vamos a agregarle las marcas de los estímulos. Es decir, vamos a marcar en que momento sucede cada uno de los estímulos de interés. En los datos de Resting este paso no es relevante.\n",
    "\n",
    "Con `find_events()` vamos a almacenar las marcas dentro de un objeto llamado *events*. Con `print()` vamos a ver los primeros 5 eventos para asegurarnos de que aparezcan."
   ]
  },
  {
   "cell_type": "code",
   "execution_count": 5,
   "metadata": {},
   "outputs": [
    {
     "name": "stdout",
     "output_type": "stream",
     "text": [
      "Trigger channel Status has a non-zero initial value of {initial_value} (consider using initial_event=True to detect this event)\n",
      "Removing orphaned offset at the beginning of the file.\n",
      "369 events found on stim channel Status\n",
      "Event IDs: [1 2 3]\n",
      "[[115766      0      2]\n",
      " [116906      0      3]\n",
      " [119822      0      2]\n",
      " [120383      0      3]\n",
      " [121672      0      2]]\n"
     ]
    }
   ],
   "source": [
    "events = mne.find_events(raw)\n",
    "print(events[:5])  # show the first 5"
   ]
  },
  {
   "cell_type": "markdown",
   "metadata": {},
   "source": [
    "Ahora creamos un objeto llamado *mapping* que contiene el nombre de cada marca. Con `annotations_from_events()`le ponemos ese nombre a cada marca."
   ]
  },
  {
   "cell_type": "code",
   "execution_count": 6,
   "metadata": {},
   "outputs": [
    {
     "data": {
      "text/html": [
       "<details open>\n",
       "    <summary><strong>General</strong></summary>\n",
       "    <table class=\"table table-hover table-striped table-sm table-responsive small\">\n",
       "        <tr>\n",
       "            <th>Measurement date</th>\n",
       "            \n",
       "            <td>November 13, 2023  11:51:57 GMT</td>\n",
       "            \n",
       "        </tr>\n",
       "        <tr>\n",
       "            <th>Experimenter</th>\n",
       "            \n",
       "            <td>Unknown</td>\n",
       "            \n",
       "        </tr>\n",
       "        <tr>\n",
       "            <th>Participant</th>\n",
       "            \n",
       "            \n",
       "            \n",
       "        </tr>\n",
       "    </table>\n",
       "    </details>\n",
       "    <details open>\n",
       "        <summary><strong>Channels</strong></summary>\n",
       "        <table class=\"table table-hover table-striped table-sm table-responsive small\">\n",
       "            <tr>\n",
       "                <th>Digitized points</th>\n",
       "                \n",
       "                <td>67 points</td>\n",
       "                \n",
       "            </tr>\n",
       "            <tr>\n",
       "                <th>Good channels</th>\n",
       "                <td>65 EEG, 2 misc, 3 EOG, 2 ECG, 1 Stimulus</td>\n",
       "            </tr>\n",
       "            <tr>\n",
       "                <th>Bad channels</th>\n",
       "                <td>None</td>\n",
       "            </tr>\n",
       "            <tr>\n",
       "                <th>EOG channels</th>\n",
       "                <td>EXG3, EXG4, EXG5</td>\n",
       "            </tr>\n",
       "            <tr>\n",
       "                <th>ECG channels</th>\n",
       "                <td>EXG6, EXG7</td>\n",
       "            </tr>\n",
       "        </table>\n",
       "        </details>\n",
       "        <details open>\n",
       "            <summary><strong>Data</strong></summary>\n",
       "            <table class=\"table table-hover table-striped table-sm table-responsive small\">\n",
       "                \n",
       "                <tr>\n",
       "                    <th>Sampling frequency</th>\n",
       "                    <td>1024.00 Hz</td>\n",
       "                </tr>\n",
       "                \n",
       "                \n",
       "                <tr>\n",
       "                    <th>Highpass</th>\n",
       "                    <td>0.50 Hz</td>\n",
       "                </tr>\n",
       "                \n",
       "                \n",
       "                <tr>\n",
       "                    <th>Lowpass</th>\n",
       "                    <td>40.00 Hz</td>\n",
       "                </tr>\n",
       "                \n",
       "                \n",
       "                \n",
       "                <tr>\n",
       "                    <th>Filenames</th>\n",
       "                    <td>SAAV0009_TOL_REF_FILT_CLEAN_ICA.fif</td>\n",
       "                </tr>\n",
       "                \n",
       "                \n",
       "                <tr>\n",
       "                    <th>Duration</th>\n",
       "                    <td>00:11:52 (HH:MM:SS)</td>\n",
       "                </tr>\n",
       "                \n",
       "            </table>\n",
       "            </details>"
      ],
      "text/plain": [
       "<Raw | SAAV0009_TOL_REF_FILT_CLEAN_ICA.fif, 73 x 728741 (711.7 s), ~406.0 MB, data loaded>"
      ]
     },
     "execution_count": 6,
     "metadata": {},
     "output_type": "execute_result"
    }
   ],
   "source": [
    "mapping = {\n",
    "    1: \"Start\",\n",
    "    2: \"Pick\",\n",
    "    3: \"Release\"\n",
    "}\n",
    "annot_from_events = mne.annotations_from_events(\n",
    "    events=events,\n",
    "    event_desc=mapping,\n",
    "    sfreq=raw.info[\"sfreq\"],\n",
    "    orig_time=raw.info[\"meas_date\"],\n",
    ")\n",
    "raw.set_annotations(annot_from_events)"
   ]
  },
  {
   "cell_type": "code",
   "execution_count": 18,
   "metadata": {},
   "outputs": [
    {
     "data": {
      "image/png": "[encoded data removed]",
      "text/plain": [
       "<Figure size 640x480 with 1 Axes>"
      ]
     },
     "metadata": {},
     "output_type": "display_data"
    }
   ],
   "source": [
    "fig = mne.viz.plot_events(\n",
    "    events, sfreq=raw.info[\"sfreq\"], first_samp=raw.first_samp, event_id = \n",
    ")"
   ]
  },
  {
   "cell_type": "markdown",
   "metadata": {},
   "source": [
    "# 4. Crear épocas\n",
    "\n",
    "Vamos a crear las épocas que nos interesan para TOL. Esto  lo vamos a hacer a partir de la marca con el numero 1 (\"start\"). Por eso, vamos a crear un objeto que incluya solo a este tipo de marcas. Luego, vamos a mirar las primeras 5"
   ]
  },
  {
   "cell_type": "code",
   "execution_count": 11,
   "metadata": {},
   "outputs": [
    {
     "ename": "NameError",
     "evalue": "name 'count' is not defined",
     "output_type": "error",
     "traceback": [
      "\u001b[1;31m---------------------------------------------------------------------------\u001b[0m",
      "\u001b[1;31mNameError\u001b[0m                                 Traceback (most recent call last)",
      "Cell \u001b[1;32mIn[11], line 2\u001b[0m\n\u001b[0;32m      1\u001b[0m start_event \u001b[38;5;241m=\u001b[39m mne\u001b[38;5;241m.\u001b[39mpick_events(events, include\u001b[38;5;241m=\u001b[39m\u001b[38;5;241m1\u001b[39m)\n\u001b[1;32m----> 2\u001b[0m \u001b[43mcount\u001b[49m(start_event)\n\u001b[0;32m      3\u001b[0m \u001b[38;5;28mprint\u001b[39m(start_event[:\u001b[38;5;241m5\u001b[39m])  \u001b[38;5;66;03m# show the first 5\u001b[39;00m\n",
      "\u001b[1;31mNameError\u001b[0m: name 'count' is not defined"
     ]
    }
   ],
   "source": [
    "start_event = mne.pick_events(events, include=1)\n",
    "\n",
    "print(start_event[:5])  # show the first 5\n"
   ]
  },
  {
   "cell_type": "code",
   "execution_count": null,
   "metadata": {},
   "outputs": [],
   "source": [
    "\n",
    "\n",
    "epochs = mne.Epochs(raw, start_event, tmin=-0.5, tmax=1)\n",
    "\n",
    "print(epochs)\n",
    "\n",
    "epochs.save(\"epochs_TOL_SAAV0009.fif\", overwrite=True)"
   ]
  },
  {
   "cell_type": "markdown",
   "metadata": {},
   "source": [
    "## 5. Guardar datos filtrados"
   ]
  },
  {
   "cell_type": "code",
   "execution_count": 78,
   "metadata": {},
   "outputs": [
    {
     "name": "stdout",
     "output_type": "stream",
     "text": [
      "Overwriting existing file.\n",
      "Writing e:\\Procesamiento EEG\\scripts\\..\\data\\TOL\\preprocessing\\SAAV0009_TOL_REF_FILT.fif\n"
     ]
    },
    {
     "name": "stderr",
     "output_type": "stream",
     "text": [
      "C:\\Users\\slipina\\AppData\\Local\\Temp\\ipykernel_5784\\1793239165.py:1: RuntimeWarning: This filename (e:\\Procesamiento EEG\\scripts\\..\\data\\TOL\\preprocessing\\SAAV0009_TOL_REF_FILT.fif) does not conform to MNE naming conventions. All raw files should end with raw.fif, raw_sss.fif, raw_tsss.fif, _meg.fif, _eeg.fif, _ieeg.fif, raw.fif.gz, raw_sss.fif.gz, raw_tsss.fif.gz, _meg.fif.gz, _eeg.fif.gz or _ieeg.fif.gz\n",
      "  raw_filtered.save((\"../data/\" + task + \"/preprocessing/\" + subject_id + \"_\" + task +\"_REF_FILT.fif\"), overwrite=True)\n"
     ]
    },
    {
     "name": "stdout",
     "output_type": "stream",
     "text": [
      "Closing e:\\Procesamiento EEG\\scripts\\..\\data\\TOL\\preprocessing\\SAAV0009_TOL_REF_FILT.fif\n",
      "[done]\n"
     ]
    }
   ],
   "source": [
    "raw_filtered.save((\"../data/\" + task + \"/preprocessing/\" + subject_id + \"_\" + task +\"_REF_FILT.fif\"), overwrite=True)"
   ]
  }
 ],
 "metadata": {
  "kernelspec": {
   "display_name": "base",
   "language": "python",
   "name": "python3"
  },
  "language_info": {
   "codemirror_mode": {
    "name": "ipython",
    "version": 3
   },
   "file_extension": ".py",
   "mimetype": "text/x-python",
   "name": "python",
   "nbconvert_exporter": "python",
   "pygments_lexer": "ipython3",
   "version": "3.11.6"
  }
 },
 "nbformat": 4,
 "nbformat_minor": 2
}
